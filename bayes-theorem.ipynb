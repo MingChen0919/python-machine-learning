{
 "cells": [
  {
   "cell_type": "markdown",
   "metadata": {},
   "source": [
    "---\n",
    "# Bayes\n",
    "---"
   ]
  },
  {
   "cell_type": "markdown",
   "metadata": {},
   "source": [
    "The picture below shows the bayes theorm and the scenario that Bayes theorem applies to. Most bayes problems can be summaries as:\n",
    "\n",
    "**Given the probabilities of each cases in y and the probabilities of X = B within each y cases, what is the probability of a specific y cases when X = B.**\n",
    "\n",
    "![bayes theorem](images/bayes-theorem.png)"
   ]
  },
  {
   "cell_type": "markdown",
   "metadata": {},
   "source": [
    "Let's see an example from the [wikipedia](https://en.wikipedia.org/wiki/Bayes%27_theorem):\n",
    "\n",
    "<pre>\n",
    "Suppose a drug test is 99% sensitive and 99% specific. That is, the test will produce 99% true positive results for drug users and 99% true negative results for non-drug users. Suppose that 0.5% of people are users of the drug. What is the probability that a randomly selected individual with a positive test is a user?\n",
    "</pre>\n",
    "\n",
    "**Information we have**:\n",
    "\n",
    "<code>\n",
    "P(User) = 0.05\n",
    "P(Non-user) = 0.99\n",
    "P(+|User) = 0.99\n",
    "P(-|User) = 1 - 0.99 = 0.01\n",
    "P(-|Non-user) = 0.99\n",
    "P(+|Non-user) = 1 - 0.99 = 0.01\n",
    "</code>\n",
    "\n",
    "**What we need to solve**:\n",
    "\n",
    "<code>\n",
    "P(User|+) = ? \n",
    "</code>"
   ]
  },
  {
   "cell_type": "markdown",
   "metadata": {},
   "source": [
    "## Draw the probability diagram\n",
    "\n",
    "![wiki drug test bayes problem](images/wiki-drug-test-bayes.png)"
   ]
  },
  {
   "cell_type": "markdown",
   "metadata": {},
   "source": [
    "**Solution:**\n",
    "<code>\n",
    "P(User|+) = 0.005*0.99/(0.995*0.01 + 0.005*0.99)\n",
    "</code>"
   ]
  },
  {
   "cell_type": "code",
   "execution_count": null,
   "metadata": {
    "collapsed": true
   },
   "outputs": [],
   "source": []
  }
 ],
 "metadata": {
  "kernelspec": {
   "display_name": "Python 3",
   "language": "python",
   "name": "python3"
  },
  "language_info": {
   "codemirror_mode": {
    "name": "ipython",
    "version": 3
   },
   "file_extension": ".py",
   "mimetype": "text/x-python",
   "name": "python",
   "nbconvert_exporter": "python",
   "pygments_lexer": "ipython3",
   "version": "3.6.1"
  }
 },
 "nbformat": 4,
 "nbformat_minor": 2
}
