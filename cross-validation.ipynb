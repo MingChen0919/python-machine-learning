{
 "cells": [
  {
   "cell_type": "markdown",
   "metadata": {},
   "source": [
    "# Cross validation\n",
    "---"
   ]
  },
  {
   "cell_type": "markdown",
   "metadata": {},
   "source": [
    "**Cross validation** is a technique for assessing model performance. There are many different cross validation methods, but they all share a few common features:\n",
    "\n",
    "1. split data into training and test sets.\n",
    "2. train the model with training dataset and test it with the test dataset.\n",
    "3. resplit the data into training and test sets.\n",
    "4. repeat step 1-3 until every subset of data has served as a test dataset (this is not accurate for shuffle methods, but you get the idea).\n",
    "5. average the model performance evaluation scores for each round of training, test dataset pairs."
   ]
  },
  {
   "cell_type": "markdown",
   "metadata": {},
   "source": []
  },
  {
   "cell_type": "markdown",
   "metadata": {},
   "source": [
    "## K-Fold cross validation\n",
    "\n",
    "The K-Fold method splits data into k groups (folds), with k-1 groups as training data and the fold left out as test data.\n",
    "\n",
    "<hr>\n",
    "<font color=blue>**This method doesn't split the data directly, instead it generates `indices` that can be used to generate dataset splits!**</font>"
   ]
  },
  {
   "cell_type": "code",
   "execution_count": 5,
   "metadata": {
    "collapsed": true
   },
   "outputs": [],
   "source": [
    "from sklearn.model_selection import KFold\n",
    "import numpy as np"
   ]
  },
  {
   "cell_type": "code",
   "execution_count": 6,
   "metadata": {},
   "outputs": [
    {
     "data": {
      "text/plain": [
       "['a', 'b', 'c', 'd', 'e', 'f', 'g', 'h', 'i', 'j']"
      ]
     },
     "execution_count": 6,
     "metadata": {},
     "output_type": "execute_result"
    }
   ],
   "source": [
    "y = list('abcdefghij')\n",
    "y"
   ]
  },
  {
   "cell_type": "code",
   "execution_count": 7,
   "metadata": {
    "collapsed": true
   },
   "outputs": [],
   "source": [
    "kf = KFold(n_splits=5)"
   ]
  },
  {
   "cell_type": "code",
   "execution_count": 8,
   "metadata": {},
   "outputs": [
    {
     "name": "stdout",
     "output_type": "stream",
     "text": [
      "train indices: [2 3 4 5 6 7 8 9]; test indices: [0 1]\n",
      "train indices: [0 1 4 5 6 7 8 9]; test indices: [2 3]\n",
      "train indices: [0 1 2 3 6 7 8 9]; test indices: [4 5]\n",
      "train indices: [0 1 2 3 4 5 8 9]; test indices: [6 7]\n",
      "train indices: [0 1 2 3 4 5 6 7]; test indices: [8 9]\n"
     ]
    }
   ],
   "source": [
    "for train_idx, test_idx in kf.split(y):\n",
    "    print(\"train indices: %s; test indices: %s\" %(train_idx, test_idx))"
   ]
  },
  {
   "cell_type": "markdown",
   "metadata": {},
   "source": [
    "### Use indices to generate dataset splits"
   ]
  },
  {
   "cell_type": "code",
   "execution_count": 9,
   "metadata": {},
   "outputs": [
    {
     "name": "stdout",
     "output_type": "stream",
     "text": [
      "train: ['c', 'd', 'e', 'f', 'g', 'h', 'i', 'j']; test: ['a', 'b']\n",
      "train: ['a', 'b', 'e', 'f', 'g', 'h', 'i', 'j']; test: ['c', 'd']\n",
      "train: ['a', 'b', 'c', 'd', 'g', 'h', 'i', 'j']; test: ['e', 'f']\n",
      "train: ['a', 'b', 'c', 'd', 'e', 'f', 'i', 'j']; test: ['g', 'h']\n",
      "train: ['a', 'b', 'c', 'd', 'e', 'f', 'g', 'h']; test: ['i', 'j']\n"
     ]
    }
   ],
   "source": [
    "for train_idx, test_idx in kf.split(y):\n",
    "    train = [y[i] for i in train_idx]\n",
    "    test = [y[i] for i in test_idx]\n",
    "    print(\"train: %s; test: %s\" %(train, test))"
   ]
  },
  {
   "cell_type": "markdown",
   "metadata": {},
   "source": [
    "## Leave One Out (LOO)\n",
    "\n",
    "Take one sample from n samples as test data and the rest as train data. \n",
    "<hr>\n",
    "<font color=blue>**This method doesn't split the data directly, instead it generates `indices` that can be used to generate dataset splits!**</font>"
   ]
  },
  {
   "cell_type": "code",
   "execution_count": 10,
   "metadata": {
    "collapsed": true
   },
   "outputs": [],
   "source": [
    "from sklearn.model_selection import LeaveOneOut"
   ]
  },
  {
   "cell_type": "code",
   "execution_count": 11,
   "metadata": {},
   "outputs": [
    {
     "data": {
      "text/plain": [
       "['a', 'b', 'c', 'd', 'e', 'f', 'g', 'h', 'i', 'j']"
      ]
     },
     "execution_count": 11,
     "metadata": {},
     "output_type": "execute_result"
    }
   ],
   "source": [
    "y"
   ]
  },
  {
   "cell_type": "code",
   "execution_count": 12,
   "metadata": {
    "collapsed": true
   },
   "outputs": [],
   "source": [
    "loo = LeaveOneOut()"
   ]
  },
  {
   "cell_type": "code",
   "execution_count": 13,
   "metadata": {},
   "outputs": [
    {
     "name": "stdout",
     "output_type": "stream",
     "text": [
      "train indices: [1 2 3 4 5 6 7 8 9]; test indices: [0]\n",
      "train indices: [0 2 3 4 5 6 7 8 9]; test indices: [1]\n",
      "train indices: [0 1 3 4 5 6 7 8 9]; test indices: [2]\n",
      "train indices: [0 1 2 4 5 6 7 8 9]; test indices: [3]\n",
      "train indices: [0 1 2 3 5 6 7 8 9]; test indices: [4]\n",
      "train indices: [0 1 2 3 4 6 7 8 9]; test indices: [5]\n",
      "train indices: [0 1 2 3 4 5 7 8 9]; test indices: [6]\n",
      "train indices: [0 1 2 3 4 5 6 8 9]; test indices: [7]\n",
      "train indices: [0 1 2 3 4 5 6 7 9]; test indices: [8]\n",
      "train indices: [0 1 2 3 4 5 6 7 8]; test indices: [9]\n"
     ]
    }
   ],
   "source": [
    "for train_idx, test_idx in loo.split(y):\n",
    "    print(\"train indices: %s; test indices: %s\" %(train_idx, test_idx))"
   ]
  },
  {
   "cell_type": "markdown",
   "metadata": {},
   "source": [
    "## Leave P Out (LPO)\n",
    "\n",
    "Take p samples from n samples and the rest as train data. This method is computationally expensive, since there are many different combinations of taking p samples out of n samples.\n",
    "\n",
    "<hr>\n",
    "<font color=blue>**This method doesn't split the data directly, instead it generates `indices` that can be used to generate dataset splits!**</font>"
   ]
  },
  {
   "cell_type": "code",
   "execution_count": 14,
   "metadata": {
    "collapsed": true
   },
   "outputs": [],
   "source": [
    "from sklearn.model_selection import LeavePOut"
   ]
  },
  {
   "cell_type": "code",
   "execution_count": 15,
   "metadata": {
    "collapsed": true
   },
   "outputs": [],
   "source": [
    "lpo = LeavePOut(p=3)"
   ]
  },
  {
   "cell_type": "code",
   "execution_count": 16,
   "metadata": {},
   "outputs": [
    {
     "name": "stdout",
     "output_type": "stream",
     "text": [
      "train indices: [3 4 5 6 7 8 9]; test indices: [0 1 2]\n",
      "train indices: [2 4 5 6 7 8 9]; test indices: [0 1 3]\n",
      "train indices: [2 3 5 6 7 8 9]; test indices: [0 1 4]\n",
      "train indices: [2 3 4 6 7 8 9]; test indices: [0 1 5]\n",
      "train indices: [2 3 4 5 7 8 9]; test indices: [0 1 6]\n",
      "train indices: [2 3 4 5 6 8 9]; test indices: [0 1 7]\n",
      "train indices: [2 3 4 5 6 7 9]; test indices: [0 1 8]\n",
      "train indices: [2 3 4 5 6 7 8]; test indices: [0 1 9]\n",
      "train indices: [1 4 5 6 7 8 9]; test indices: [0 2 3]\n",
      "train indices: [1 3 5 6 7 8 9]; test indices: [0 2 4]\n",
      "train indices: [1 3 4 6 7 8 9]; test indices: [0 2 5]\n",
      "train indices: [1 3 4 5 7 8 9]; test indices: [0 2 6]\n",
      "train indices: [1 3 4 5 6 8 9]; test indices: [0 2 7]\n",
      "train indices: [1 3 4 5 6 7 9]; test indices: [0 2 8]\n",
      "train indices: [1 3 4 5 6 7 8]; test indices: [0 2 9]\n",
      "train indices: [1 2 5 6 7 8 9]; test indices: [0 3 4]\n",
      "train indices: [1 2 4 6 7 8 9]; test indices: [0 3 5]\n",
      "train indices: [1 2 4 5 7 8 9]; test indices: [0 3 6]\n",
      "train indices: [1 2 4 5 6 8 9]; test indices: [0 3 7]\n",
      "train indices: [1 2 4 5 6 7 9]; test indices: [0 3 8]\n",
      "train indices: [1 2 4 5 6 7 8]; test indices: [0 3 9]\n",
      "train indices: [1 2 3 6 7 8 9]; test indices: [0 4 5]\n",
      "train indices: [1 2 3 5 7 8 9]; test indices: [0 4 6]\n",
      "train indices: [1 2 3 5 6 8 9]; test indices: [0 4 7]\n",
      "train indices: [1 2 3 5 6 7 9]; test indices: [0 4 8]\n",
      "train indices: [1 2 3 5 6 7 8]; test indices: [0 4 9]\n",
      "train indices: [1 2 3 4 7 8 9]; test indices: [0 5 6]\n",
      "train indices: [1 2 3 4 6 8 9]; test indices: [0 5 7]\n",
      "train indices: [1 2 3 4 6 7 9]; test indices: [0 5 8]\n",
      "train indices: [1 2 3 4 6 7 8]; test indices: [0 5 9]\n",
      "train indices: [1 2 3 4 5 8 9]; test indices: [0 6 7]\n",
      "train indices: [1 2 3 4 5 7 9]; test indices: [0 6 8]\n",
      "train indices: [1 2 3 4 5 7 8]; test indices: [0 6 9]\n",
      "train indices: [1 2 3 4 5 6 9]; test indices: [0 7 8]\n",
      "train indices: [1 2 3 4 5 6 8]; test indices: [0 7 9]\n",
      "train indices: [1 2 3 4 5 6 7]; test indices: [0 8 9]\n",
      "train indices: [0 4 5 6 7 8 9]; test indices: [1 2 3]\n",
      "train indices: [0 3 5 6 7 8 9]; test indices: [1 2 4]\n",
      "train indices: [0 3 4 6 7 8 9]; test indices: [1 2 5]\n",
      "train indices: [0 3 4 5 7 8 9]; test indices: [1 2 6]\n",
      "train indices: [0 3 4 5 6 8 9]; test indices: [1 2 7]\n",
      "train indices: [0 3 4 5 6 7 9]; test indices: [1 2 8]\n",
      "train indices: [0 3 4 5 6 7 8]; test indices: [1 2 9]\n",
      "train indices: [0 2 5 6 7 8 9]; test indices: [1 3 4]\n",
      "train indices: [0 2 4 6 7 8 9]; test indices: [1 3 5]\n",
      "train indices: [0 2 4 5 7 8 9]; test indices: [1 3 6]\n",
      "train indices: [0 2 4 5 6 8 9]; test indices: [1 3 7]\n",
      "train indices: [0 2 4 5 6 7 9]; test indices: [1 3 8]\n",
      "train indices: [0 2 4 5 6 7 8]; test indices: [1 3 9]\n",
      "train indices: [0 2 3 6 7 8 9]; test indices: [1 4 5]\n",
      "train indices: [0 2 3 5 7 8 9]; test indices: [1 4 6]\n",
      "train indices: [0 2 3 5 6 8 9]; test indices: [1 4 7]\n",
      "train indices: [0 2 3 5 6 7 9]; test indices: [1 4 8]\n",
      "train indices: [0 2 3 5 6 7 8]; test indices: [1 4 9]\n",
      "train indices: [0 2 3 4 7 8 9]; test indices: [1 5 6]\n",
      "train indices: [0 2 3 4 6 8 9]; test indices: [1 5 7]\n",
      "train indices: [0 2 3 4 6 7 9]; test indices: [1 5 8]\n",
      "train indices: [0 2 3 4 6 7 8]; test indices: [1 5 9]\n",
      "train indices: [0 2 3 4 5 8 9]; test indices: [1 6 7]\n",
      "train indices: [0 2 3 4 5 7 9]; test indices: [1 6 8]\n",
      "train indices: [0 2 3 4 5 7 8]; test indices: [1 6 9]\n",
      "train indices: [0 2 3 4 5 6 9]; test indices: [1 7 8]\n",
      "train indices: [0 2 3 4 5 6 8]; test indices: [1 7 9]\n",
      "train indices: [0 2 3 4 5 6 7]; test indices: [1 8 9]\n",
      "train indices: [0 1 5 6 7 8 9]; test indices: [2 3 4]\n",
      "train indices: [0 1 4 6 7 8 9]; test indices: [2 3 5]\n",
      "train indices: [0 1 4 5 7 8 9]; test indices: [2 3 6]\n",
      "train indices: [0 1 4 5 6 8 9]; test indices: [2 3 7]\n",
      "train indices: [0 1 4 5 6 7 9]; test indices: [2 3 8]\n",
      "train indices: [0 1 4 5 6 7 8]; test indices: [2 3 9]\n",
      "train indices: [0 1 3 6 7 8 9]; test indices: [2 4 5]\n",
      "train indices: [0 1 3 5 7 8 9]; test indices: [2 4 6]\n",
      "train indices: [0 1 3 5 6 8 9]; test indices: [2 4 7]\n",
      "train indices: [0 1 3 5 6 7 9]; test indices: [2 4 8]\n",
      "train indices: [0 1 3 5 6 7 8]; test indices: [2 4 9]\n",
      "train indices: [0 1 3 4 7 8 9]; test indices: [2 5 6]\n",
      "train indices: [0 1 3 4 6 8 9]; test indices: [2 5 7]\n",
      "train indices: [0 1 3 4 6 7 9]; test indices: [2 5 8]\n",
      "train indices: [0 1 3 4 6 7 8]; test indices: [2 5 9]\n",
      "train indices: [0 1 3 4 5 8 9]; test indices: [2 6 7]\n",
      "train indices: [0 1 3 4 5 7 9]; test indices: [2 6 8]\n",
      "train indices: [0 1 3 4 5 7 8]; test indices: [2 6 9]\n",
      "train indices: [0 1 3 4 5 6 9]; test indices: [2 7 8]\n",
      "train indices: [0 1 3 4 5 6 8]; test indices: [2 7 9]\n",
      "train indices: [0 1 3 4 5 6 7]; test indices: [2 8 9]\n",
      "train indices: [0 1 2 6 7 8 9]; test indices: [3 4 5]\n",
      "train indices: [0 1 2 5 7 8 9]; test indices: [3 4 6]\n",
      "train indices: [0 1 2 5 6 8 9]; test indices: [3 4 7]\n",
      "train indices: [0 1 2 5 6 7 9]; test indices: [3 4 8]\n",
      "train indices: [0 1 2 5 6 7 8]; test indices: [3 4 9]\n",
      "train indices: [0 1 2 4 7 8 9]; test indices: [3 5 6]\n",
      "train indices: [0 1 2 4 6 8 9]; test indices: [3 5 7]\n",
      "train indices: [0 1 2 4 6 7 9]; test indices: [3 5 8]\n",
      "train indices: [0 1 2 4 6 7 8]; test indices: [3 5 9]\n",
      "train indices: [0 1 2 4 5 8 9]; test indices: [3 6 7]\n",
      "train indices: [0 1 2 4 5 7 9]; test indices: [3 6 8]\n",
      "train indices: [0 1 2 4 5 7 8]; test indices: [3 6 9]\n",
      "train indices: [0 1 2 4 5 6 9]; test indices: [3 7 8]\n",
      "train indices: [0 1 2 4 5 6 8]; test indices: [3 7 9]\n",
      "train indices: [0 1 2 4 5 6 7]; test indices: [3 8 9]\n",
      "train indices: [0 1 2 3 7 8 9]; test indices: [4 5 6]\n",
      "train indices: [0 1 2 3 6 8 9]; test indices: [4 5 7]\n",
      "train indices: [0 1 2 3 6 7 9]; test indices: [4 5 8]\n",
      "train indices: [0 1 2 3 6 7 8]; test indices: [4 5 9]\n",
      "train indices: [0 1 2 3 5 8 9]; test indices: [4 6 7]\n",
      "train indices: [0 1 2 3 5 7 9]; test indices: [4 6 8]\n",
      "train indices: [0 1 2 3 5 7 8]; test indices: [4 6 9]\n",
      "train indices: [0 1 2 3 5 6 9]; test indices: [4 7 8]\n",
      "train indices: [0 1 2 3 5 6 8]; test indices: [4 7 9]\n",
      "train indices: [0 1 2 3 5 6 7]; test indices: [4 8 9]\n",
      "train indices: [0 1 2 3 4 8 9]; test indices: [5 6 7]\n",
      "train indices: [0 1 2 3 4 7 9]; test indices: [5 6 8]\n",
      "train indices: [0 1 2 3 4 7 8]; test indices: [5 6 9]\n",
      "train indices: [0 1 2 3 4 6 9]; test indices: [5 7 8]\n",
      "train indices: [0 1 2 3 4 6 8]; test indices: [5 7 9]\n",
      "train indices: [0 1 2 3 4 6 7]; test indices: [5 8 9]\n",
      "train indices: [0 1 2 3 4 5 9]; test indices: [6 7 8]\n",
      "train indices: [0 1 2 3 4 5 8]; test indices: [6 7 9]\n",
      "train indices: [0 1 2 3 4 5 7]; test indices: [6 8 9]\n",
      "train indices: [0 1 2 3 4 5 6]; test indices: [7 8 9]\n"
     ]
    }
   ],
   "source": [
    "for train_idx, test_idx in lpo.split(y):\n",
    "    print(\"train indices: %s; test indices: %s\" %(train_idx, test_idx))"
   ]
  },
  {
   "cell_type": "markdown",
   "metadata": {},
   "source": [
    "## Random Permutation (Shaffle & Split)\n",
    "\n",
    "The data is shuffled and splitted into train and test pairs. You have to specify number of shuffling iterations and the proportion to train/test sets."
   ]
  },
  {
   "cell_type": "code",
   "execution_count": 17,
   "metadata": {
    "collapsed": true
   },
   "outputs": [],
   "source": [
    "from sklearn.model_selection import ShuffleSplit"
   ]
  },
  {
   "cell_type": "code",
   "execution_count": 18,
   "metadata": {
    "collapsed": true
   },
   "outputs": [],
   "source": [
    "ss = ShuffleSplit(n_splits=10, test_size=0.25)"
   ]
  },
  {
   "cell_type": "code",
   "execution_count": 19,
   "metadata": {},
   "outputs": [
    {
     "name": "stdout",
     "output_type": "stream",
     "text": [
      "train indices: [4 9 3 1 8 2 5]; test indices: [0 7 6]\n",
      "train indices: [4 8 6 7 3 0 2]; test indices: [5 1 9]\n",
      "train indices: [5 7 0 8 6 9 2]; test indices: [4 3 1]\n",
      "train indices: [1 6 4 5 8 2 7]; test indices: [0 3 9]\n",
      "train indices: [1 9 8 7 3 6 5]; test indices: [4 0 2]\n",
      "train indices: [1 7 4 6 8 0 3]; test indices: [9 2 5]\n",
      "train indices: [4 2 8 6 5 9 1]; test indices: [0 3 7]\n",
      "train indices: [5 4 9 6 3 8 0]; test indices: [1 7 2]\n",
      "train indices: [4 1 6 0 2 9 7]; test indices: [5 3 8]\n",
      "train indices: [7 8 2 1 9 4 3]; test indices: [0 5 6]\n"
     ]
    }
   ],
   "source": [
    "for train_idx, test_idx in ss.split(y):\n",
    "    print(\"train indices: %s; test indices: %s\" %(train_idx, test_idx))"
   ]
  },
  {
   "cell_type": "markdown",
   "metadata": {},
   "source": [
    "## Leave One Group Out\n",
    "\n",
    "This method is similar as the `Leave One Out` method. The variable is grouped by values and one group is held for serving as test dataset."
   ]
  },
  {
   "cell_type": "code",
   "execution_count": 20,
   "metadata": {
    "collapsed": true
   },
   "outputs": [],
   "source": [
    "y = list('aaa') + list('bbbbb') + list('cccc')"
   ]
  },
  {
   "cell_type": "code",
   "execution_count": 21,
   "metadata": {},
   "outputs": [
    {
     "data": {
      "text/plain": [
       "['a', 'a', 'a', 'b', 'b', 'b', 'b', 'b', 'c', 'c', 'c', 'c']"
      ]
     },
     "execution_count": 21,
     "metadata": {},
     "output_type": "execute_result"
    }
   ],
   "source": [
    "y"
   ]
  },
  {
   "cell_type": "code",
   "execution_count": 22,
   "metadata": {},
   "outputs": [
    {
     "data": {
      "text/plain": [
       "array([ 0.2413556 , -0.65333186,  0.84401647, -1.10281985,  1.01318204,\n",
       "       -0.69043423, -0.19806153, -1.3683989 , -0.74623   ,  0.35248938,\n",
       "        0.11474869,  0.53338053])"
      ]
     },
     "execution_count": 22,
     "metadata": {},
     "output_type": "execute_result"
    }
   ],
   "source": [
    "X = np.random.randn(len(y))\n",
    "X"
   ]
  },
  {
   "cell_type": "code",
   "execution_count": 23,
   "metadata": {
    "collapsed": true
   },
   "outputs": [],
   "source": [
    "from sklearn.model_selection import LeaveOneGroupOut"
   ]
  },
  {
   "cell_type": "code",
   "execution_count": 24,
   "metadata": {
    "collapsed": true
   },
   "outputs": [],
   "source": [
    "logo = LeaveOneGroupOut()"
   ]
  },
  {
   "cell_type": "code",
   "execution_count": 25,
   "metadata": {},
   "outputs": [
    {
     "name": "stdout",
     "output_type": "stream",
     "text": [
      "train indices: [ 3  4  5  6  7  8  9 10 11]; test indices: [0 1 2]\n",
      "train indices: [ 0  1  2  8  9 10 11]; test indices: [3 4 5 6 7]\n",
      "train indices: [0 1 2 3 4 5 6 7]; test indices: [ 8  9 10 11]\n"
     ]
    }
   ],
   "source": [
    "for train_idx, test_idx in logo.split(X, groups=y):\n",
    "    print(\"train indices: %s; test indices: %s\" %(train_idx, test_idx))"
   ]
  },
  {
   "cell_type": "markdown",
   "metadata": {
    "collapsed": true
   },
   "source": [
    "## Leave P Group Out\n",
    "\n",
    "This method is similar as the `Leave One Group Out`. The variable is grouped by values and P groups are held for serving as test dataset."
   ]
  },
  {
   "cell_type": "code",
   "execution_count": 26,
   "metadata": {},
   "outputs": [
    {
     "data": {
      "text/plain": [
       "['a', 'a', 'a', 'b', 'b', 'b', 'b', 'b', 'c', 'c', 'c', 'c']"
      ]
     },
     "execution_count": 26,
     "metadata": {},
     "output_type": "execute_result"
    }
   ],
   "source": [
    "y"
   ]
  },
  {
   "cell_type": "code",
   "execution_count": 27,
   "metadata": {},
   "outputs": [
    {
     "data": {
      "text/plain": [
       "array([ 0.2413556 , -0.65333186,  0.84401647, -1.10281985,  1.01318204,\n",
       "       -0.69043423, -0.19806153, -1.3683989 , -0.74623   ,  0.35248938,\n",
       "        0.11474869,  0.53338053])"
      ]
     },
     "execution_count": 27,
     "metadata": {},
     "output_type": "execute_result"
    }
   ],
   "source": [
    "X"
   ]
  },
  {
   "cell_type": "code",
   "execution_count": 28,
   "metadata": {
    "collapsed": true
   },
   "outputs": [],
   "source": [
    "from sklearn.model_selection import LeavePGroupsOut"
   ]
  },
  {
   "cell_type": "code",
   "execution_count": 29,
   "metadata": {
    "collapsed": true
   },
   "outputs": [],
   "source": [
    "lpgo = LeavePGroupsOut(n_groups=2)"
   ]
  },
  {
   "cell_type": "code",
   "execution_count": 34,
   "metadata": {},
   "outputs": [
    {
     "name": "stdout",
     "output_type": "stream",
     "text": [
      "train indices: [ 8  9 10 11]; test indices: [0 1 2 3 4 5 6 7]\n",
      "train indices: [3 4 5 6 7]; test indices: [ 0  1  2  8  9 10 11]\n",
      "train indices: [0 1 2]; test indices: [ 3  4  5  6  7  8  9 10 11]\n"
     ]
    }
   ],
   "source": [
    "for train_idx, test_idx in lpgo.split(X, groups=y):\n",
    "    print(\"train indices: %s; test indices: %s\" %(train_idx, test_idx))"
   ]
  },
  {
   "cell_type": "markdown",
   "metadata": {},
   "source": [
    "## Group Shuffle Split\n",
    "\n",
    "`Group Shuffle Split` is  a combination of `ShuffleSplit` and `LeavePGroupsOut`. It shuffles the groups and then x groups are held for test datas, where x can be a proportion or an absolute number of groups."
   ]
  },
  {
   "cell_type": "code",
   "execution_count": 35,
   "metadata": {
    "collapsed": true
   },
   "outputs": [],
   "source": [
    "X = np.random.randn(20)"
   ]
  },
  {
   "cell_type": "code",
   "execution_count": 36,
   "metadata": {},
   "outputs": [
    {
     "data": {
      "text/plain": [
       "array([-0.70782569, -0.41241592, -0.13149337, -0.81185999,  0.27883507,\n",
       "        0.89086179, -1.25196285,  0.21387114,  1.00030339, -1.45616003,\n",
       "       -0.64170703,  0.16466327, -0.9789483 , -1.08461979,  0.12992165,\n",
       "        1.20777846,  0.46672233,  0.16845777, -1.42556463, -0.14764408])"
      ]
     },
     "execution_count": 36,
     "metadata": {},
     "output_type": "execute_result"
    }
   ],
   "source": [
    "X"
   ]
  },
  {
   "cell_type": "code",
   "execution_count": 64,
   "metadata": {
    "collapsed": true
   },
   "outputs": [],
   "source": [
    "y = list('MF' * 10)"
   ]
  },
  {
   "cell_type": "code",
   "execution_count": 65,
   "metadata": {},
   "outputs": [
    {
     "data": {
      "text/plain": [
       "['M',\n",
       " 'F',\n",
       " 'M',\n",
       " 'F',\n",
       " 'M',\n",
       " 'F',\n",
       " 'M',\n",
       " 'F',\n",
       " 'M',\n",
       " 'F',\n",
       " 'M',\n",
       " 'F',\n",
       " 'M',\n",
       " 'F',\n",
       " 'M',\n",
       " 'F',\n",
       " 'M',\n",
       " 'F',\n",
       " 'M',\n",
       " 'F']"
      ]
     },
     "execution_count": 65,
     "metadata": {},
     "output_type": "execute_result"
    }
   ],
   "source": [
    "y"
   ]
  },
  {
   "cell_type": "code",
   "execution_count": 66,
   "metadata": {},
   "outputs": [],
   "source": [
    "g = ([1,2,3,4,5] * 4)\n",
    "g.sort()"
   ]
  },
  {
   "cell_type": "code",
   "execution_count": 67,
   "metadata": {},
   "outputs": [
    {
     "data": {
      "text/plain": [
       "[1, 1, 1, 1, 2, 2, 2, 2, 3, 3, 3, 3, 4, 4, 4, 4, 5, 5, 5, 5]"
      ]
     },
     "execution_count": 67,
     "metadata": {},
     "output_type": "execute_result"
    }
   ],
   "source": [
    "g"
   ]
  },
  {
   "cell_type": "code",
   "execution_count": 68,
   "metadata": {},
   "outputs": [],
   "source": [
    "from sklearn.model_selection import GroupShuffleSplit"
   ]
  },
  {
   "cell_type": "code",
   "execution_count": 69,
   "metadata": {
    "collapsed": true
   },
   "outputs": [],
   "source": [
    "gss = GroupShuffleSplit(n_splits=10, test_size=2)"
   ]
  },
  {
   "cell_type": "code",
   "execution_count": 70,
   "metadata": {},
   "outputs": [
    {
     "name": "stdout",
     "output_type": "stream",
     "text": [
      "train indices: [ 0  1  2  3  8  9 10 11 12 13 14 15]; test indices: [ 4  5  6  7 16 17 18 19]\n",
      "train indices: [ 0  1  2  3  4  5  6  7 12 13 14 15]; test indices: [ 8  9 10 11 16 17 18 19]\n",
      "train indices: [ 0  1  2  3 12 13 14 15 16 17 18 19]; test indices: [ 4  5  6  7  8  9 10 11]\n",
      "train indices: [ 0  1  2  3  4  5  6  7 16 17 18 19]; test indices: [ 8  9 10 11 12 13 14 15]\n",
      "train indices: [ 0  1  2  3 12 13 14 15 16 17 18 19]; test indices: [ 4  5  6  7  8  9 10 11]\n",
      "train indices: [ 0  1  2  3  4  5  6  7  8  9 10 11]; test indices: [12 13 14 15 16 17 18 19]\n",
      "train indices: [ 0  1  2  3  4  5  6  7  8  9 10 11]; test indices: [12 13 14 15 16 17 18 19]\n",
      "train indices: [ 0  1  2  3  4  5  6  7  8  9 10 11]; test indices: [12 13 14 15 16 17 18 19]\n",
      "train indices: [ 4  5  6  7  8  9 10 11 12 13 14 15]; test indices: [ 0  1  2  3 16 17 18 19]\n",
      "train indices: [ 0  1  2  3  4  5  6  7 16 17 18 19]; test indices: [ 8  9 10 11 12 13 14 15]\n"
     ]
    }
   ],
   "source": [
    "for  train_idx, test_idx in gss.split(X, y, groups=g):\n",
    "    print(\"train indices: %s; test indices: %s\" %(train_idx, test_idx))"
   ]
  },
  {
   "cell_type": "code",
   "execution_count": null,
   "metadata": {
    "collapsed": true
   },
   "outputs": [],
   "source": []
  }
 ],
 "metadata": {
  "kernelspec": {
   "display_name": "Python 3",
   "language": "python",
   "name": "python3"
  },
  "language_info": {
   "codemirror_mode": {
    "name": "ipython",
    "version": 3
   },
   "file_extension": ".py",
   "mimetype": "text/x-python",
   "name": "python",
   "nbconvert_exporter": "python",
   "pygments_lexer": "ipython3",
   "version": "3.6.1"
  }
 },
 "nbformat": 4,
 "nbformat_minor": 2
}
