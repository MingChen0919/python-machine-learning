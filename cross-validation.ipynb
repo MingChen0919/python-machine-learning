{
 "cells": [
  {
   "cell_type": "markdown",
   "metadata": {},
   "source": [
    "# Cross validation\n",
    "---"
   ]
  },
  {
   "cell_type": "markdown",
   "metadata": {},
   "source": [
    "**Cross validation** is a technique for assessing model performance. There are many different cross validation methods, but they all share a few common features:\n",
    "\n",
    "1. split data into training and test sets.\n",
    "2. train the model with training dataset and test it with the test dataset.\n",
    "3. resplit the data into training and test sets.\n",
    "4. repeat step 1-3 until every subset of data has served as a test dataset (this is not accurate for shuffle methods, but you get the idea).\n",
    "5. average the model performance evaluation scores for each round of training, test dataset pairs."
   ]
  },
  {
   "cell_type": "markdown",
   "metadata": {},
   "source": []
  },
  {
   "cell_type": "markdown",
   "metadata": {},
   "source": [
    "## K-Fold cross validation\n",
    "\n",
    "The K-Fold method splits data into k groups (folds), with k-1 groups as training data and the fold left out as test data.\n",
    "\n",
    "<hr>\n",
    "<font color=blue>**This method doesn't split the data directly, instead it generates `indices` that can be used to generate dataset splits!**</font>"
   ]
  },
  {
   "cell_type": "code",
   "execution_count": 7,
   "metadata": {
    "collapsed": true
   },
   "outputs": [],
   "source": [
    "from sklearn.model_selection import KFold\n",
    "import numpy as np"
   ]
  },
  {
   "cell_type": "code",
   "execution_count": 14,
   "metadata": {},
   "outputs": [
    {
     "data": {
      "text/plain": [
       "['a', 'b', 'c', 'd', 'e', 'f', 'g', 'h', 'i', 'j']"
      ]
     },
     "execution_count": 14,
     "metadata": {},
     "output_type": "execute_result"
    }
   ],
   "source": [
    "y = list('abcdefghij')\n",
    "y"
   ]
  },
  {
   "cell_type": "code",
   "execution_count": 15,
   "metadata": {
    "collapsed": true
   },
   "outputs": [],
   "source": [
    "kf = KFold(n_splits=5)"
   ]
  },
  {
   "cell_type": "code",
   "execution_count": 16,
   "metadata": {},
   "outputs": [
    {
     "name": "stdout",
     "output_type": "stream",
     "text": [
      "train indices: [2 3 4 5 6 7 8 9]; test indices: [0 1]\n",
      "train indices: [0 1 4 5 6 7 8 9]; test indices: [2 3]\n",
      "train indices: [0 1 2 3 6 7 8 9]; test indices: [4 5]\n",
      "train indices: [0 1 2 3 4 5 8 9]; test indices: [6 7]\n",
      "train indices: [0 1 2 3 4 5 6 7]; test indices: [8 9]\n"
     ]
    }
   ],
   "source": [
    "for train_idx, test_idx in kf.split(y):\n",
    "    print(\"train indices: %s; test indices: %s\" %(train_idx, test_idx))"
   ]
  },
  {
   "cell_type": "markdown",
   "metadata": {},
   "source": [
    "### Use indices to generate dataset splits"
   ]
  },
  {
   "cell_type": "code",
   "execution_count": 36,
   "metadata": {},
   "outputs": [
    {
     "name": "stdout",
     "output_type": "stream",
     "text": [
      "train: ['c', 'd', 'e', 'f', 'g', 'h', 'i', 'j']; test: ['a', 'b']\n",
      "train: ['a', 'b', 'e', 'f', 'g', 'h', 'i', 'j']; test: ['c', 'd']\n",
      "train: ['a', 'b', 'c', 'd', 'g', 'h', 'i', 'j']; test: ['e', 'f']\n",
      "train: ['a', 'b', 'c', 'd', 'e', 'f', 'i', 'j']; test: ['g', 'h']\n",
      "train: ['a', 'b', 'c', 'd', 'e', 'f', 'g', 'h']; test: ['i', 'j']\n"
     ]
    }
   ],
   "source": [
    "for train_idx, test_idx in kf.split(y):\n",
    "    train = [y[i] for i in train_idx]\n",
    "    test = [y[i] for i in test_idx]\n",
    "    print(\"train: %s; test: %s\" %(train, test))"
   ]
  },
  {
   "cell_type": "markdown",
   "metadata": {},
   "source": [
    "## Leave One Out (LOO)\n",
    "\n",
    "Take one sample from n samples as test data and the rest as train data. \n",
    "<hr>\n",
    "<font color=blue>**This method doesn't split the data directly, instead it generates `indices` that can be used to generate dataset splits!**</font>"
   ]
  },
  {
   "cell_type": "code",
   "execution_count": 37,
   "metadata": {},
   "outputs": [],
   "source": [
    "from sklearn.model_selection import LeaveOneOut"
   ]
  },
  {
   "cell_type": "code",
   "execution_count": 38,
   "metadata": {},
   "outputs": [
    {
     "data": {
      "text/plain": [
       "['a', 'b', 'c', 'd', 'e', 'f', 'g', 'h', 'i', 'j']"
      ]
     },
     "execution_count": 38,
     "metadata": {},
     "output_type": "execute_result"
    }
   ],
   "source": [
    "y"
   ]
  },
  {
   "cell_type": "code",
   "execution_count": 39,
   "metadata": {
    "collapsed": true
   },
   "outputs": [],
   "source": [
    "loo = LeaveOneOut()"
   ]
  },
  {
   "cell_type": "code",
   "execution_count": 40,
   "metadata": {},
   "outputs": [
    {
     "name": "stdout",
     "output_type": "stream",
     "text": [
      "train indices: [1 2 3 4 5 6 7 8 9]; test indices: [0]\n",
      "train indices: [0 2 3 4 5 6 7 8 9]; test indices: [1]\n",
      "train indices: [0 1 3 4 5 6 7 8 9]; test indices: [2]\n",
      "train indices: [0 1 2 4 5 6 7 8 9]; test indices: [3]\n",
      "train indices: [0 1 2 3 5 6 7 8 9]; test indices: [4]\n",
      "train indices: [0 1 2 3 4 6 7 8 9]; test indices: [5]\n",
      "train indices: [0 1 2 3 4 5 7 8 9]; test indices: [6]\n",
      "train indices: [0 1 2 3 4 5 6 8 9]; test indices: [7]\n",
      "train indices: [0 1 2 3 4 5 6 7 9]; test indices: [8]\n",
      "train indices: [0 1 2 3 4 5 6 7 8]; test indices: [9]\n"
     ]
    }
   ],
   "source": [
    "for train_idx, test_idx in loo.split(y):\n",
    "    print(\"train indices: %s; test indices: %s\" %(train_idx, test_idx))"
   ]
  },
  {
   "cell_type": "markdown",
   "metadata": {},
   "source": [
    "## Leave P Out (LPO)\n",
    "\n",
    "Take p samples from n samples and the rest as train data. This method is computationally expensive, since there are many different combinations of taking p samples out of n samples.\n",
    "\n",
    "<hr>\n",
    "<font color=blue>**This method doesn't split the data directly, instead it generates `indices` that can be used to generate dataset splits!**</font>"
   ]
  },
  {
   "cell_type": "code",
   "execution_count": 42,
   "metadata": {
    "collapsed": true
   },
   "outputs": [],
   "source": [
    "from sklearn.model_selection import LeavePOut"
   ]
  },
  {
   "cell_type": "code",
   "execution_count": 43,
   "metadata": {
    "collapsed": true
   },
   "outputs": [],
   "source": [
    "lpo = LeavePOut(p=3)"
   ]
  },
  {
   "cell_type": "code",
   "execution_count": 44,
   "metadata": {},
   "outputs": [
    {
     "name": "stdout",
     "output_type": "stream",
     "text": [
      "train indices: [3 4 5 6 7 8 9]; test indices: [0 1 2]\n",
      "train indices: [2 4 5 6 7 8 9]; test indices: [0 1 3]\n",
      "train indices: [2 3 5 6 7 8 9]; test indices: [0 1 4]\n",
      "train indices: [2 3 4 6 7 8 9]; test indices: [0 1 5]\n",
      "train indices: [2 3 4 5 7 8 9]; test indices: [0 1 6]\n",
      "train indices: [2 3 4 5 6 8 9]; test indices: [0 1 7]\n",
      "train indices: [2 3 4 5 6 7 9]; test indices: [0 1 8]\n",
      "train indices: [2 3 4 5 6 7 8]; test indices: [0 1 9]\n",
      "train indices: [1 4 5 6 7 8 9]; test indices: [0 2 3]\n",
      "train indices: [1 3 5 6 7 8 9]; test indices: [0 2 4]\n",
      "train indices: [1 3 4 6 7 8 9]; test indices: [0 2 5]\n",
      "train indices: [1 3 4 5 7 8 9]; test indices: [0 2 6]\n",
      "train indices: [1 3 4 5 6 8 9]; test indices: [0 2 7]\n",
      "train indices: [1 3 4 5 6 7 9]; test indices: [0 2 8]\n",
      "train indices: [1 3 4 5 6 7 8]; test indices: [0 2 9]\n",
      "train indices: [1 2 5 6 7 8 9]; test indices: [0 3 4]\n",
      "train indices: [1 2 4 6 7 8 9]; test indices: [0 3 5]\n",
      "train indices: [1 2 4 5 7 8 9]; test indices: [0 3 6]\n",
      "train indices: [1 2 4 5 6 8 9]; test indices: [0 3 7]\n",
      "train indices: [1 2 4 5 6 7 9]; test indices: [0 3 8]\n",
      "train indices: [1 2 4 5 6 7 8]; test indices: [0 3 9]\n",
      "train indices: [1 2 3 6 7 8 9]; test indices: [0 4 5]\n",
      "train indices: [1 2 3 5 7 8 9]; test indices: [0 4 6]\n",
      "train indices: [1 2 3 5 6 8 9]; test indices: [0 4 7]\n",
      "train indices: [1 2 3 5 6 7 9]; test indices: [0 4 8]\n",
      "train indices: [1 2 3 5 6 7 8]; test indices: [0 4 9]\n",
      "train indices: [1 2 3 4 7 8 9]; test indices: [0 5 6]\n",
      "train indices: [1 2 3 4 6 8 9]; test indices: [0 5 7]\n",
      "train indices: [1 2 3 4 6 7 9]; test indices: [0 5 8]\n",
      "train indices: [1 2 3 4 6 7 8]; test indices: [0 5 9]\n",
      "train indices: [1 2 3 4 5 8 9]; test indices: [0 6 7]\n",
      "train indices: [1 2 3 4 5 7 9]; test indices: [0 6 8]\n",
      "train indices: [1 2 3 4 5 7 8]; test indices: [0 6 9]\n",
      "train indices: [1 2 3 4 5 6 9]; test indices: [0 7 8]\n",
      "train indices: [1 2 3 4 5 6 8]; test indices: [0 7 9]\n",
      "train indices: [1 2 3 4 5 6 7]; test indices: [0 8 9]\n",
      "train indices: [0 4 5 6 7 8 9]; test indices: [1 2 3]\n",
      "train indices: [0 3 5 6 7 8 9]; test indices: [1 2 4]\n",
      "train indices: [0 3 4 6 7 8 9]; test indices: [1 2 5]\n",
      "train indices: [0 3 4 5 7 8 9]; test indices: [1 2 6]\n",
      "train indices: [0 3 4 5 6 8 9]; test indices: [1 2 7]\n",
      "train indices: [0 3 4 5 6 7 9]; test indices: [1 2 8]\n",
      "train indices: [0 3 4 5 6 7 8]; test indices: [1 2 9]\n",
      "train indices: [0 2 5 6 7 8 9]; test indices: [1 3 4]\n",
      "train indices: [0 2 4 6 7 8 9]; test indices: [1 3 5]\n",
      "train indices: [0 2 4 5 7 8 9]; test indices: [1 3 6]\n",
      "train indices: [0 2 4 5 6 8 9]; test indices: [1 3 7]\n",
      "train indices: [0 2 4 5 6 7 9]; test indices: [1 3 8]\n",
      "train indices: [0 2 4 5 6 7 8]; test indices: [1 3 9]\n",
      "train indices: [0 2 3 6 7 8 9]; test indices: [1 4 5]\n",
      "train indices: [0 2 3 5 7 8 9]; test indices: [1 4 6]\n",
      "train indices: [0 2 3 5 6 8 9]; test indices: [1 4 7]\n",
      "train indices: [0 2 3 5 6 7 9]; test indices: [1 4 8]\n",
      "train indices: [0 2 3 5 6 7 8]; test indices: [1 4 9]\n",
      "train indices: [0 2 3 4 7 8 9]; test indices: [1 5 6]\n",
      "train indices: [0 2 3 4 6 8 9]; test indices: [1 5 7]\n",
      "train indices: [0 2 3 4 6 7 9]; test indices: [1 5 8]\n",
      "train indices: [0 2 3 4 6 7 8]; test indices: [1 5 9]\n",
      "train indices: [0 2 3 4 5 8 9]; test indices: [1 6 7]\n",
      "train indices: [0 2 3 4 5 7 9]; test indices: [1 6 8]\n",
      "train indices: [0 2 3 4 5 7 8]; test indices: [1 6 9]\n",
      "train indices: [0 2 3 4 5 6 9]; test indices: [1 7 8]\n",
      "train indices: [0 2 3 4 5 6 8]; test indices: [1 7 9]\n",
      "train indices: [0 2 3 4 5 6 7]; test indices: [1 8 9]\n",
      "train indices: [0 1 5 6 7 8 9]; test indices: [2 3 4]\n",
      "train indices: [0 1 4 6 7 8 9]; test indices: [2 3 5]\n",
      "train indices: [0 1 4 5 7 8 9]; test indices: [2 3 6]\n",
      "train indices: [0 1 4 5 6 8 9]; test indices: [2 3 7]\n",
      "train indices: [0 1 4 5 6 7 9]; test indices: [2 3 8]\n",
      "train indices: [0 1 4 5 6 7 8]; test indices: [2 3 9]\n",
      "train indices: [0 1 3 6 7 8 9]; test indices: [2 4 5]\n",
      "train indices: [0 1 3 5 7 8 9]; test indices: [2 4 6]\n",
      "train indices: [0 1 3 5 6 8 9]; test indices: [2 4 7]\n",
      "train indices: [0 1 3 5 6 7 9]; test indices: [2 4 8]\n",
      "train indices: [0 1 3 5 6 7 8]; test indices: [2 4 9]\n",
      "train indices: [0 1 3 4 7 8 9]; test indices: [2 5 6]\n",
      "train indices: [0 1 3 4 6 8 9]; test indices: [2 5 7]\n",
      "train indices: [0 1 3 4 6 7 9]; test indices: [2 5 8]\n",
      "train indices: [0 1 3 4 6 7 8]; test indices: [2 5 9]\n",
      "train indices: [0 1 3 4 5 8 9]; test indices: [2 6 7]\n",
      "train indices: [0 1 3 4 5 7 9]; test indices: [2 6 8]\n",
      "train indices: [0 1 3 4 5 7 8]; test indices: [2 6 9]\n",
      "train indices: [0 1 3 4 5 6 9]; test indices: [2 7 8]\n",
      "train indices: [0 1 3 4 5 6 8]; test indices: [2 7 9]\n",
      "train indices: [0 1 3 4 5 6 7]; test indices: [2 8 9]\n",
      "train indices: [0 1 2 6 7 8 9]; test indices: [3 4 5]\n",
      "train indices: [0 1 2 5 7 8 9]; test indices: [3 4 6]\n",
      "train indices: [0 1 2 5 6 8 9]; test indices: [3 4 7]\n",
      "train indices: [0 1 2 5 6 7 9]; test indices: [3 4 8]\n",
      "train indices: [0 1 2 5 6 7 8]; test indices: [3 4 9]\n",
      "train indices: [0 1 2 4 7 8 9]; test indices: [3 5 6]\n",
      "train indices: [0 1 2 4 6 8 9]; test indices: [3 5 7]\n",
      "train indices: [0 1 2 4 6 7 9]; test indices: [3 5 8]\n",
      "train indices: [0 1 2 4 6 7 8]; test indices: [3 5 9]\n",
      "train indices: [0 1 2 4 5 8 9]; test indices: [3 6 7]\n",
      "train indices: [0 1 2 4 5 7 9]; test indices: [3 6 8]\n",
      "train indices: [0 1 2 4 5 7 8]; test indices: [3 6 9]\n",
      "train indices: [0 1 2 4 5 6 9]; test indices: [3 7 8]\n",
      "train indices: [0 1 2 4 5 6 8]; test indices: [3 7 9]\n",
      "train indices: [0 1 2 4 5 6 7]; test indices: [3 8 9]\n",
      "train indices: [0 1 2 3 7 8 9]; test indices: [4 5 6]\n",
      "train indices: [0 1 2 3 6 8 9]; test indices: [4 5 7]\n",
      "train indices: [0 1 2 3 6 7 9]; test indices: [4 5 8]\n",
      "train indices: [0 1 2 3 6 7 8]; test indices: [4 5 9]\n",
      "train indices: [0 1 2 3 5 8 9]; test indices: [4 6 7]\n",
      "train indices: [0 1 2 3 5 7 9]; test indices: [4 6 8]\n",
      "train indices: [0 1 2 3 5 7 8]; test indices: [4 6 9]\n",
      "train indices: [0 1 2 3 5 6 9]; test indices: [4 7 8]\n",
      "train indices: [0 1 2 3 5 6 8]; test indices: [4 7 9]\n",
      "train indices: [0 1 2 3 5 6 7]; test indices: [4 8 9]\n",
      "train indices: [0 1 2 3 4 8 9]; test indices: [5 6 7]\n",
      "train indices: [0 1 2 3 4 7 9]; test indices: [5 6 8]\n",
      "train indices: [0 1 2 3 4 7 8]; test indices: [5 6 9]\n",
      "train indices: [0 1 2 3 4 6 9]; test indices: [5 7 8]\n",
      "train indices: [0 1 2 3 4 6 8]; test indices: [5 7 9]\n",
      "train indices: [0 1 2 3 4 6 7]; test indices: [5 8 9]\n",
      "train indices: [0 1 2 3 4 5 9]; test indices: [6 7 8]\n",
      "train indices: [0 1 2 3 4 5 8]; test indices: [6 7 9]\n",
      "train indices: [0 1 2 3 4 5 7]; test indices: [6 8 9]\n",
      "train indices: [0 1 2 3 4 5 6]; test indices: [7 8 9]\n"
     ]
    }
   ],
   "source": [
    "for train_idx, test_idx in lpo.split(y):\n",
    "    print(\"train indices: %s; test indices: %s\" %(train_idx, test_idx))"
   ]
  },
  {
   "cell_type": "markdown",
   "metadata": {},
   "source": [
    "## Random Permutation (Shaffle & Split)\n",
    "\n",
    "The data is shuffled and splitted into train and test pairs. You have to specify number of shuffling iterations and the proportion to train/test sets."
   ]
  },
  {
   "cell_type": "code",
   "execution_count": 45,
   "metadata": {
    "collapsed": true
   },
   "outputs": [],
   "source": [
    "from sklearn.model_selection import ShuffleSplit"
   ]
  },
  {
   "cell_type": "code",
   "execution_count": 46,
   "metadata": {
    "collapsed": true
   },
   "outputs": [],
   "source": [
    "ss = ShuffleSplit(n_splits=10, test_size=0.25)"
   ]
  },
  {
   "cell_type": "code",
   "execution_count": 47,
   "metadata": {},
   "outputs": [
    {
     "name": "stdout",
     "output_type": "stream",
     "text": [
      "train indices: [9 3 8 2 0 1 6]; test indices: [7 5 4]\n",
      "train indices: [0 5 9 4 2 3 7]; test indices: [6 1 8]\n",
      "train indices: [3 6 1 8 2 5 0]; test indices: [7 4 9]\n",
      "train indices: [5 8 2 6 3 9 1]; test indices: [7 0 4]\n",
      "train indices: [6 1 2 0 4 7 3]; test indices: [9 8 5]\n",
      "train indices: [8 5 7 9 6 0 3]; test indices: [2 1 4]\n",
      "train indices: [9 4 5 2 8 7 3]; test indices: [0 1 6]\n",
      "train indices: [6 5 8 4 2 3 1]; test indices: [9 0 7]\n",
      "train indices: [8 2 0 7 1 5 4]; test indices: [6 3 9]\n",
      "train indices: [0 6 8 5 3 2 4]; test indices: [7 1 9]\n"
     ]
    }
   ],
   "source": [
    "for train_idx, test_idx in ss.split(y):\n",
    "    print(\"train indices: %s; test indices: %s\" %(train_idx, test_idx))"
   ]
  },
  {
   "cell_type": "markdown",
   "metadata": {},
   "source": [
    "## Leave One Group Out\n",
    "\n",
    "This method is similar to the `Leave One Out` method. The variable is grouped by values and one group is held for serving as test dataset."
   ]
  },
  {
   "cell_type": "code",
   "execution_count": null,
   "metadata": {
    "collapsed": true
   },
   "outputs": [],
   "source": [
    "x = np.random.randn(le)"
   ]
  },
  {
   "cell_type": "code",
   "execution_count": 48,
   "metadata": {
    "collapsed": true
   },
   "outputs": [],
   "source": [
    "y = list('aaa') + list('bbbbb') + list('cccc')"
   ]
  },
  {
   "cell_type": "code",
   "execution_count": 49,
   "metadata": {},
   "outputs": [
    {
     "data": {
      "text/plain": [
       "['a', 'a', 'a', 'b', 'b', 'b', 'b', 'b', 'c', 'c', 'c', 'c']"
      ]
     },
     "execution_count": 49,
     "metadata": {},
     "output_type": "execute_result"
    }
   ],
   "source": [
    "y"
   ]
  },
  {
   "cell_type": "code",
   "execution_count": 50,
   "metadata": {
    "collapsed": true
   },
   "outputs": [],
   "source": [
    "from sklearn.model_selection import LeaveOneGroupOut"
   ]
  },
  {
   "cell_type": "code",
   "execution_count": 51,
   "metadata": {
    "collapsed": true
   },
   "outputs": [],
   "source": [
    "logo = LeaveOneGroupOut()"
   ]
  },
  {
   "cell_type": "code",
   "execution_count": 55,
   "metadata": {},
   "outputs": [
    {
     "name": "stdout",
     "output_type": "stream",
     "text": [
      "train indices: [ 3  4  5  6  7  8  9 10 11]; test indices: [0 1 2]\n",
      "train indices: [ 0  1  2  8  9 10 11]; test indices: [3 4 5 6 7]\n",
      "train indices: [0 1 2 3 4 5 6 7]; test indices: [ 8  9 10 11]\n"
     ]
    }
   ],
   "source": [
    "for train_idx, test_idx in logo.split(y, groups=y):\n",
    "    print(\"train indices: %s; test indices: %s\" %(train_idx, test_idx))"
   ]
  },
  {
   "cell_type": "code",
   "execution_count": null,
   "metadata": {
    "collapsed": true
   },
   "outputs": [],
   "source": []
  }
 ],
 "metadata": {
  "kernelspec": {
   "display_name": "Python 3",
   "language": "python",
   "name": "python3"
  },
  "language_info": {
   "codemirror_mode": {
    "name": "ipython",
    "version": 3
   },
   "file_extension": ".py",
   "mimetype": "text/x-python",
   "name": "python",
   "nbconvert_exporter": "python",
   "pygments_lexer": "ipython3",
   "version": "3.6.1"
  }
 },
 "nbformat": 4,
 "nbformat_minor": 2
}
