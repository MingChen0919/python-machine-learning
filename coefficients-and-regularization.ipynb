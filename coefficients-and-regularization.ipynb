{
 "cells": [
  {
   "cell_type": "code",
   "execution_count": 139,
   "metadata": {
    "collapsed": true
   },
   "outputs": [],
   "source": [
    "%matplotlib inline\n",
    "from matplotlib import pyplot as plt\n",
    "import matplotlib.colors as mcolors\n",
    "import numpy as np\n",
    "\n",
    "from sklearn.datasets import load_diabetes\n",
    "from sklearn.linear_model import (Lasso, Ridge, ElasticNet, lasso_path, enet_path)"
   ]
  },
  {
   "cell_type": "markdown",
   "metadata": {},
   "source": [
    "## Data"
   ]
  },
  {
   "cell_type": "code",
   "execution_count": 140,
   "metadata": {},
   "outputs": [
    {
     "data": {
      "text/plain": [
       "(442, 10)"
      ]
     },
     "execution_count": 140,
     "metadata": {},
     "output_type": "execute_result"
    }
   ],
   "source": [
    "X, y = load_diabetes(return_X_y=True)\n",
    "# X shape\n",
    "X.shape"
   ]
  },
  {
   "cell_type": "markdown",
   "metadata": {},
   "source": [
    "## Computing regularization path"
   ]
  },
  {
   "cell_type": "code",
   "execution_count": null,
   "metadata": {},
   "outputs": [],
   "source": [
    "# lasso path\n",
    "alphas_lasso, coefs_lasso, _ = lasso_path(X, y)\n",
    "\n",
    "# elastic net path\n",
    "alphas_enet, coefs_enet, _ = enet_path(X, y, l1_ratio=0.95)\n",
    "\n",
    "# ridge path\n",
    "n_alphas = 200\n",
    "alphas_ridge = np.logspace(-2, 5, n_alphas)\n",
    "rp = Ridge()\n",
    "\n",
    "coefs_rp = []\n",
    "for a in alphas_ridge:\n",
    "    rp.set_params(alpha=a)\n",
    "    rp.fit(X,y)\n",
    "    coefs_rp.append(rp.coef_)"
   ]
  },
  {
   "cell_type": "code",
   "execution_count": null,
   "metadata": {},
   "outputs": [],
   "source": [
    "fig, splots = plt.subplots(nrows=2, ncols=2, figsize=(12, 10))\n",
    "fig.set_dpi(300)\n",
    "sp1 = splots[0,0]\n",
    "sp2 = splots[0,1]\n",
    "sp3 = splots[1,0]\n",
    "sp4 = splots[1,1]\n",
    "sp4.set_axis_off()\n",
    "colors = list(mcolors.CSS4_COLORS.keys())[:X.shape[1]]\n",
    "colors = ['#B03A2E', '#884EA0', '#1F618D', '#148F77', '#1E8449',\n",
    "          '#F4D03F', '#D68910', '#D35400', '#BFC9CA', '#85929E']\n",
    "\n",
    "# lasso path\n",
    "for coef_l, c in zip(coefs_lasso, colors):\n",
    "    sp1.plot(-np.log10(alphas_lasso), coef_l, c)\n",
    "    sp1.set_xlabel(\"-log(alpha)\")\n",
    "    sp1.set_ylabel('coefficients')\n",
    "    sp1.set_title('Lasso path')\n",
    "    sp1.axhline(y=0, lw=2, ls='-.')\n",
    "    \n",
    "# elastic net path\n",
    "for coef_e, c in zip(coefs_enet, colors):\n",
    "    sp2.plot(-np.log10(alphas_enet), coef_e, c)\n",
    "    sp2.set_xlabel(\"-log(alpha)\")\n",
    "    sp2.set_ylabel('coefficients')\n",
    "    sp2.set_title('Elastic Net path (L1 ratio = 0.95)')\n",
    "    sp2.axhline(y=0, lw=2)\n",
    "    \n",
    "# ridge path \n",
    "coefs_rp = np.array(coefs_rp).T\n",
    "for coef_r, c in zip(coefs_rp, colors):\n",
    "    sp3.plot(-np.log10(alphas_ridge), coef_r, c)\n",
    "    sp3.set_xlabel(\"alpha\")\n",
    "    sp3.set_ylabel('coefficients')\n",
    "    sp3.set_title('Ridge path')\n",
    "    sp3.axhline(y=0,lw=2)\n",
    "    \n",
    "plt.show()"
   ]
  },
  {
   "cell_type": "code",
   "execution_count": null,
   "metadata": {
    "collapsed": true
   },
   "outputs": [],
   "source": []
  }
 ],
 "metadata": {
  "kernelspec": {
   "display_name": "Python 3",
   "language": "python",
   "name": "python3"
  },
  "language_info": {
   "codemirror_mode": {
    "name": "ipython",
    "version": 3
   },
   "file_extension": ".py",
   "mimetype": "text/x-python",
   "name": "python",
   "nbconvert_exporter": "python",
   "pygments_lexer": "ipython3",
   "version": "3.6.1"
  }
 },
 "nbformat": 4,
 "nbformat_minor": 2
}
